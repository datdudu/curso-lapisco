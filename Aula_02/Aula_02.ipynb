{
 "cells": [
  {
   "cell_type": "markdown",
   "metadata": {},
   "source": [
    "### 1. Declaração de variáveis e tipos de dados"
   ]
  },
  {
   "cell_type": "code",
   "execution_count": 1,
   "metadata": {},
   "outputs": [
    {
     "name": "stdout",
     "output_type": "stream",
     "text": [
      "Boa tarde! Meu nome é Carlos Eduardo, tenho 23 de altura. O meu statis universiário é True\n",
      "<class 'str'> <class 'int'> <class 'float'> <class 'bool'>\n"
     ]
    }
   ],
   "source": [
    "nome = \"Carlos Eduardo\" #identifica como string\n",
    "idade = 23 # Identifica como inteiro\n",
    "altura = 1.82 # Identifica como float\n",
    "universitario = True # Identifica como booleano\n",
    "\n",
    "print(f'Boa tarde! Meu nome é {nome}, tenho {idade} de altura. O meu statis universiário é {universitario}') #Utilizando interpolação de string para inserir os valores das variáveis na string\n",
    "print(type(nome), type(idade), type(altura), type(universitario)) #Identificar o tipo de dados\n",
    "\n",
    "altura = int(1.82) #conversão implícita de tipo\n",
    "idade = float(22) \n",
    "universitario = bool(0)\n",
    "print(f'Boa tarde! Meu nome é {nome}, tenho {idade} de altura. O meu statis universiário é {universitario}') #Utilizando interpolação de string para inserir os valores das variáveis na string\n",
    "print(type(nome), type(idade), type(altura), type(universitario)) #Identificar o tipo de dados\n",
    "\n",
    "print('Boa tarde! Meu nome é {}, tenho  {} anos e {} de altura. O meu status universitário é {}'.format(nome,idade,altura,universitario)) #uma maneira diferente de usar a interpolação de string\n",
    "print('Boa tarde! Meu nome é {2}, tenho  {0} anos e {1} de altura. O meu status universitário é {3}'.format(nome,idade,altura,universitario)) #mudam a ordem de exibição mostrada das variáveis na string\n"
   ]
  },
  {
   "cell_type": "code",
   "execution_count": 2,
   "metadata": {},
   "outputs": [
    {
     "name": "stdout",
     "output_type": "stream",
     "text": [
      "Boa tarde! Meu nome é Eduardo, tenho  23 anos e 1.83 de altura. O meu status universitário é True\n",
      "[['Eduardo', 23, 1.83, True], ['banana', 'pera', 'uva']]\n",
      "O Eduardo, de 23 anos, comprou um(a) banana\n"
     ]
    }
   ],
   "source": [
    "lista_de_compras = [\"banana\", \"pera\", \"uva\"] #Lista\n",
    "usuario = ['Eduardo', 23, 1.83, True]\n",
    "print(f'Boa tarde! Meu nome é {usuario[0]}, tenho  {usuario[1]} anos e {usuario[2]} de altura. O meu status universitário é {usuario[3]}') #Utilizando a lista para ser exibida numa string\n",
    "\n",
    "\n",
    "lista_de_listas = [['Eduardo', 23, 1.83, True], [\"banana\", \"pera\", \"uva\"]]\n",
    "print(lista_de_listas)\n",
    "print(f'O {lista_de_listas[0][0]}, de {lista_de_listas[0][1]} anos, comprou um(a) {lista_de_listas[1][0]}')"
   ]
  },
  {
   "cell_type": "code",
   "execution_count": null,
   "metadata": {},
   "outputs": [],
   "source": [
    "usuario = ('Eduardo', 22, 1.82, True) #Tupla, valor não pode ser alterado\n",
    "print(f'Boa tarde! Meu nome é {usuario[0]}, tenho  {usuario[1]} anos e {usuario[2]} de altura. O meu status universitário é {usuario[3]}') "
   ]
  },
  {
   "cell_type": "code",
   "execution_count": null,
   "metadata": {},
   "outputs": [],
   "source": [
    "informacoes_user = {'nome' : 'Carlos Eduardo',\n",
    "                  'Idade' : 22,\n",
    "                  'Altura' : 1.82,\n",
    "                  'dicionario' : {'pai' : 'Jose',\n",
    "                                'mae' : 'Maria'},\n",
    "                  'lista': ['banana', 'uva']}\n",
    "\n",
    "print(informacoes_user['lista'][0])"
   ]
  },
  {
   "cell_type": "markdown",
   "metadata": {},
   "source": [
    "### 2. Entrada de dados"
   ]
  },
  {
   "cell_type": "code",
   "execution_count": 3,
   "metadata": {},
   "outputs": [],
   "source": [
    "nome = input('Qual seu nome?')\n",
    "idade = int(input('Qual sua idade?')) #Inserir uma idade em inteiro\n",
    "lista = eval(input('Informe a lista de compras'))"
   ]
  },
  {
   "cell_type": "markdown",
   "metadata": {},
   "source": [
    "### 3. Operadores Matemáticos"
   ]
  },
  {
   "cell_type": "code",
   "execution_count": 4,
   "metadata": {},
   "outputs": [
    {
     "name": "stdout",
     "output_type": "stream",
     "text": [
      "2 3\n",
      "5\n",
      "-1\n",
      "6\n",
      "1.5\n",
      "2\n",
      "0\n",
      "8\n"
     ]
    }
   ],
   "source": [
    "a,b = 2,3\n",
    "print(a, b)\n",
    "\n",
    "add = a + b\n",
    "print(add)\n",
    "sub = a - b\n",
    "print(sub)\n",
    "mult = a*b\n",
    "print(mult)\n",
    "div = b/a\n",
    "print(float(div))\n",
    "\n",
    "resto_div = a%b\n",
    "print(resto_div)\n",
    "inteira_div = a//b\n",
    "print(inteira_div)\n",
    "pontecia = a**b\n",
    "print(pontecia)"
   ]
  },
  {
   "cell_type": "markdown",
   "metadata": {},
   "source": [
    "### 4. Estruturas de decisão"
   ]
  },
  {
   "cell_type": "code",
   "execution_count": 6,
   "metadata": {},
   "outputs": [
    {
     "name": "stdout",
     "output_type": "stream",
     "text": [
      "é o Eduardo\n"
     ]
    }
   ],
   "source": [
    "nome = 'Carlos Eduardo'\n",
    "idade = 23\n",
    "universitario = False\n",
    "if (nome == 'Carlos Eduardo' and idade == 23) : #No python a identação é obrigatória para definir que pertence a um certo bloco de código\n",
    "    print('é o Eduardo')\n",
    " "
   ]
  },
  {
   "cell_type": "markdown",
   "metadata": {},
   "source": [
    "### 5. Estruturas de repetição"
   ]
  },
  {
   "cell_type": "code",
   "execution_count": 8,
   "metadata": {},
   "outputs": [
    {
     "name": "stdout",
     "output_type": "stream",
     "text": [
      "0\n",
      "1\n",
      "2\n",
      "3\n",
      "4\n",
      "5\n",
      "6\n",
      "7\n",
      "8\n",
      "9\n",
      "10\n",
      "11\n",
      "12\n",
      "13\n",
      "14\n",
      "15\n",
      "16\n",
      "17\n",
      "18\n",
      "19\n",
      "20\n",
      "21\n",
      "22\n",
      "23\n",
      "24\n",
      "25\n",
      "26\n",
      "27\n",
      "28\n",
      "29\n"
     ]
    }
   ],
   "source": [
    "contador = 0\n",
    "while contador < 30:\n",
    "    print(contador)\n",
    "    contador+=1\n",
    "\n",
    "lista_nomes = ['Lucas', 'Davi', 'Debora']\n",
    "const = True\n",
    "while(const):\n",
    "    name = input('Qual seu nome?')\n",
    "    if(nome in lista_nomes):\n",
    "        print('Esta na lista!')\n",
    "        break #interrompe o ultimo laço de repetição\n",
    "    else:\n",
    "        print('Não esta na lista')"
   ]
  }
 ],
 "metadata": {
  "kernelspec": {
   "display_name": "Python 3",
   "language": "python",
   "name": "python3"
  },
  "language_info": {
   "codemirror_mode": {
    "name": "ipython",
    "version": 3
   },
   "file_extension": ".py",
   "mimetype": "text/x-python",
   "name": "python",
   "nbconvert_exporter": "python",
   "pygments_lexer": "ipython3",
   "version": "3.11.4"
  },
  "orig_nbformat": 4
 },
 "nbformat": 4,
 "nbformat_minor": 2
}
