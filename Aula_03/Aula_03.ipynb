{
 "cells": [
  {
   "cell_type": "markdown",
   "metadata": {},
   "source": [
    "# Funções"
   ]
  },
  {
   "cell_type": "markdown",
   "metadata": {},
   "source": [
    "#### 1.1 Criação de funções"
   ]
  },
  {
   "cell_type": "code",
   "execution_count": null,
   "metadata": {},
   "outputs": [
    {
     "name": "stdout",
     "output_type": "stream",
     "text": [
      "Meu nome é Eduardo, e tenho 22 anos\n"
     ]
    }
   ],
   "source": [
    "def imprime_nome(name, age):\n",
    "    print(f'Meu nome é {name}, e tenho {age} anos')\n",
    "\n",
    "imprime_nome('Eduardo',22)"
   ]
  },
  {
   "cell_type": "code",
   "execution_count": null,
   "metadata": {},
   "outputs": [],
   "source": [
    "def imprime_nome(name,age=19):\n",
    "    print(f'Meu nome é {name} e tenho {age} anos')\n",
    "    \n",
    "#def imprime_nome(name,age=19, height): Não permite uma variável depois de uma variável com valor padrão\n",
    "#    print(f'Meu nome é {name} e tenho {age} anos')"
   ]
  },
  {
   "cell_type": "code",
   "execution_count": null,
   "metadata": {},
   "outputs": [],
   "source": [
    "def imprime_nome(*infos): #Passa uma lista, **infos para um dicionário\n",
    "    print(f'Meu nome é {infos[0]} e tenho {infos[1]} anos')\n",
    "\n",
    "imprime_nome('Eduardo',23)"
   ]
  },
  {
   "cell_type": "code",
   "execution_count": null,
   "metadata": {},
   "outputs": [],
   "source": [
    "def calc(a,b):\n",
    "    add = a + b\n",
    "    mult = a * b\n",
    "\n",
    "    return add, mult #irá retornar uma tupla\n",
    "\n",
    "result_add, result_mult = calc(2,3) #o retorno da função se dividir entre essas duas variáveis\n",
    "print(result_add,result_mult)"
   ]
  },
  {
   "cell_type": "markdown",
   "metadata": {},
   "source": [
    "# 2. Manipulação de Strings"
   ]
  },
  {
   "cell_type": "markdown",
   "metadata": {},
   "source": [
    "#### 2.1 String em múltiplas linhas"
   ]
  },
  {
   "cell_type": "code",
   "execution_count": null,
   "metadata": {},
   "outputs": [
    {
     "name": "stdout",
     "output_type": "stream",
     "text": [
      "\n",
      "=================\n",
      "|   Demonstração |\n",
      "|   de           |\n",
      "|   String       |\n",
      "|   Com          |\n",
      "|   Múltiplas    |\n",
      "|   Linhas       |\n",
      "=================\n",
      "\n"
     ]
    }
   ],
   "source": [
    "demo = \"\"\"\n",
    "=================\n",
    "|   Demonstração |\n",
    "|   de           |\n",
    "|   String       |\n",
    "|   Com          |\n",
    "|   Múltiplas    |\n",
    "|   Linhas       |\n",
    "=================\n",
    "\"\"\"\n",
    "\n",
    "print(demo)"
   ]
  },
  {
   "cell_type": "markdown",
   "metadata": {},
   "source": [
    "#### 2.2 Concatenação de Strings"
   ]
  },
  {
   "cell_type": "code",
   "execution_count": null,
   "metadata": {},
   "outputs": [
    {
     "name": "stdout",
     "output_type": "stream",
     "text": [
      "Hello World!\n"
     ]
    }
   ],
   "source": [
    "a = \"Hello\"\n",
    "b = \"World\"\n",
    "\n",
    "message = a + \" \" + b + \"!\"\n",
    "print(message)"
   ]
  },
  {
   "cell_type": "markdown",
   "metadata": {},
   "source": [
    "#### 2.3 Iterando em Strings"
   ]
  },
  {
   "cell_type": "code",
   "execution_count": null,
   "metadata": {},
   "outputs": [
    {
     "name": "stdout",
     "output_type": "stream",
     "text": [
      "o\n"
     ]
    }
   ],
   "source": [
    "name = \"Carlos Eduardo\" #14 caracteres, ultimo caractere de um vetor igual a 13 pois começa do 0\n",
    "print(name[13])"
   ]
  },
  {
   "cell_type": "code",
   "execution_count": null,
   "metadata": {},
   "outputs": [
    {
     "data": {
      "text/plain": [
       "14"
      ]
     },
     "execution_count": 9,
     "metadata": {},
     "output_type": "execute_result"
    }
   ],
   "source": [
    "len(name)"
   ]
  },
  {
   "cell_type": "code",
   "execution_count": null,
   "metadata": {},
   "outputs": [
    {
     "name": "stdout",
     "output_type": "stream",
     "text": [
      "Car está na string\n"
     ]
    }
   ],
   "source": [
    "if 'Car' in name:\n",
    "    print(\"Car está na string\")"
   ]
  },
  {
   "cell_type": "markdown",
   "metadata": {},
   "source": [
    "#### 2.4 Modificando Strings"
   ]
  },
  {
   "cell_type": "code",
   "execution_count": null,
   "metadata": {},
   "outputs": [
    {
     "name": "stdout",
     "output_type": "stream",
     "text": [
      "CARLOS EDUARDO Carlos Eduardo\n"
     ]
    }
   ],
   "source": [
    "print(name.upper(), name.lower(),name.title()) #upper() Transforma todos os caracteres na string em maiúsculo \n",
    "                                               #lower() Transforma todos os caracrteres na string em minúsculo\n",
    "                                               #title() todo caractere de uma palavra coloca em letra maiúscula"
   ]
  },
  {
   "cell_type": "code",
   "execution_count": 13,
   "metadata": {},
   "outputs": [],
   "source": [
    "name = input('Transforme seu nome:')\n",
    "\n",
    "if name.lower() == 'eduardo':\n",
    "    print('É o Eduardo!')"
   ]
  },
  {
   "cell_type": "code",
   "execution_count": 1,
   "metadata": {},
   "outputs": [
    {
     "name": "stdout",
     "output_type": "stream",
     "text": [
      "É o Tulio\n"
     ]
    }
   ],
   "source": [
    "nome_dois = 'Tulio Freitas'\n",
    "\n",
    "if nome_dois.strip() == 'Tulio Freitas':\n",
    "    print(\"É o Tulio\")"
   ]
  },
  {
   "cell_type": "code",
   "execution_count": 7,
   "metadata": {},
   "outputs": [
    {
     "name": "stdout",
     "output_type": "stream",
     "text": [
      "Fulio Freitas\n"
     ]
    }
   ],
   "source": [
    "print(nome_dois.replace(\"T\", \"F\"))"
   ]
  },
  {
   "cell_type": "code",
   "execution_count": 8,
   "metadata": {},
   "outputs": [
    {
     "name": "stdout",
     "output_type": "stream",
     "text": [
      "['banana,', 'usa,', 'maça,', 'pera']\n",
      "['banana', ' usa', ' maça', ' pera']\n"
     ]
    }
   ],
   "source": [
    "compras = \"banana, usa, maça, pera\"\n",
    "\n",
    "print(compras.split())\n",
    "\n",
    "lista_de_compras = compras.split(',')\n",
    "print(lista_de_compras)"
   ]
  },
  {
   "cell_type": "code",
   "execution_count": 9,
   "metadata": {},
   "outputs": [
    {
     "name": "stdout",
     "output_type": "stream",
     "text": [
      "['banana']\n"
     ]
    }
   ],
   "source": [
    "nova_lista = [string.strip() for string in lista_de_compras if \"b\" in string]\n",
    "print(nova_lista)"
   ]
  }
 ],
 "metadata": {
  "kernelspec": {
   "display_name": "Python 3",
   "language": "python",
   "name": "python3"
  },
  "language_info": {
   "codemirror_mode": {
    "name": "ipython",
    "version": 3
   },
   "file_extension": ".py",
   "mimetype": "text/x-python",
   "name": "python",
   "nbconvert_exporter": "python",
   "pygments_lexer": "ipython3",
   "version": "3.11.4"
  },
  "orig_nbformat": 4
 },
 "nbformat": 4,
 "nbformat_minor": 2
}
