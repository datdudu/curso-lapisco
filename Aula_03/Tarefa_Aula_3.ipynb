{
 "cells": [
  {
   "cell_type": "markdown",
   "metadata": {},
   "source": [
    "# Questão 1\n",
    "### Entre com um nome e imprima o nome somente se a primeira letra do nome for “a” (maiúscula ou minúscula)."
   ]
  },
  {
   "cell_type": "code",
   "execution_count": 2,
   "metadata": {},
   "outputs": [
    {
     "name": "stdout",
     "output_type": "stream",
     "text": [
      "Amanda\n"
     ]
    }
   ],
   "source": [
    "name = input(\"Insira um nome que comece com a letra a (minúsculo ou maiúsculo): \")\n",
    "\n",
    "if name[0] == 'a' or name[0] == 'A' :\n",
    "    print(name)\n",
    "else :\n",
    "    print(\"O nome não começa com a letra a\")"
   ]
  },
  {
   "cell_type": "markdown",
   "metadata": {},
   "source": [
    "# Questão 2\n",
    "### Faça um programa que receba uma palavra e a imprima de trás-para-frente"
   ]
  },
  {
   "cell_type": "code",
   "execution_count": 16,
   "metadata": {},
   "outputs": [
    {
     "name": "stdout",
     "output_type": "stream",
     "text": [
      "Sua palavra é AbCd\n",
      "A palavra invertida é:  dCbA\n"
     ]
    }
   ],
   "source": [
    "word = input(\"Insira uma palavra: \")\n",
    "print(f\"Sua palavra é {word}\")\n",
    "\n",
    "print(\"A palavra invertida é: \", word[::-1])\n"
   ]
  },
  {
   "cell_type": "markdown",
   "metadata": {},
   "source": [
    "# Questão 3\n",
    "### Crie uma função que receba do usuário uma string. O programa deve imprimir a string sem suas vogais."
   ]
  },
  {
   "cell_type": "code",
   "execution_count": 29,
   "metadata": {},
   "outputs": [
    {
     "name": "stdout",
     "output_type": "stream",
     "text": [
      "Sua palavra é: desoxirribonucleico\n",
      "Sua palavra sem as vogais: dsxrrbnclc\n"
     ]
    }
   ],
   "source": [
    "def remove_vowels(var) :\n",
    "    vowels = ['a','e','i','o','u']\n",
    "    \n",
    "    for i in range(len(vowels)) :\n",
    "        var = var.replace(vowels[i],\"\")\n",
    "               \n",
    "    return var\n",
    "    \n",
    "word = input(\"Insira uma palavra: \")\n",
    "print(f\"Sua palavra é: {word}\")\n",
    "word = remove_vowels(word)\n",
    "\n",
    "print(f\"Sua palavra sem as vogais: {word}\")"
   ]
  },
  {
   "cell_type": "markdown",
   "metadata": {},
   "source": [
    "# Questão 4\n",
    "### Crie uma função que receba como entrada uma string e conte o número de 1’s\n",
    "### que aparecem na string de entrada.\n",
    "### E.g.:\n",
    "### Entrada: ‘0011001’\n",
    "### Saída: 3"
   ]
  },
  {
   "cell_type": "code",
   "execution_count": 30,
   "metadata": {},
   "outputs": [
    {
     "name": "stdout",
     "output_type": "stream",
     "text": [
      "O número de 1's na sua string é : 6\n"
     ]
    }
   ],
   "source": [
    "def count_ones (word) :\n",
    "    countOnes = word.count(\"1\")\n",
    "    \n",
    "    return countOnes\n",
    "\n",
    "str = input(\"Insira uma string: \")\n",
    "numberOnes = count_ones(str)\n",
    "\n",
    "print(f\"O número de 1's na sua string é : {numberOnes}\")\n"
   ]
  },
  {
   "cell_type": "markdown",
   "metadata": {},
   "source": [
    "# Questão 5\n",
    "### Crie uma função que recebe como entrada uma string e uma lista de palavras e\n",
    "### retorna a string filtrando as palavras presentes na lista, desconsiderando se as\n",
    "### letras são maiúsculas ou minúsculas.\n",
    "### E.g.:\n",
    "### Entrada: 'Eu gosto de estudar Python', ['python', 'java', 'c++', 'de']\n",
    "### Saída: 'Eu gosto estudar'"
   ]
  },
  {
   "cell_type": "code",
   "execution_count": 1,
   "metadata": {},
   "outputs": [
    {
     "name": "stdout",
     "output_type": "stream",
     "text": [
      "My name is\n"
     ]
    }
   ],
   "source": [
    "def filter_words(phrase, words_filter):\n",
    "    \n",
    "    # Converter todas as palavras da lista para minúsculas\n",
    "    words_filter = [word.lower() for word in words_filter]\n",
    "    \n",
    "    # Separar a string em palavras\n",
    "    words = phrase.split()\n",
    "    \n",
    "    # Filtrar as palavras que não estão na lista\n",
    "    filtered_words = [word for word in words if word.lower() not in words_filter]\n",
    "    \n",
    "    # Juntar as palavras filtradas em uma nova string\n",
    "    filtered_string = ' '.join(filtered_words)\n",
    "    \n",
    "    return filtered_string\n",
    "\n",
    "phrase = \"My name is Julio\"\n",
    "words_filter = [\"Carlos\", \"Julio\"]\n",
    "\n",
    "string_filtrada = filter_words(phrase, words_filter)\n",
    "print(string_filtrada)\n",
    "    "
   ]
  }
 ],
 "metadata": {
  "kernelspec": {
   "display_name": "Python 3",
   "language": "python",
   "name": "python3"
  },
  "language_info": {
   "codemirror_mode": {
    "name": "ipython",
    "version": 3
   },
   "file_extension": ".py",
   "mimetype": "text/x-python",
   "name": "python",
   "nbconvert_exporter": "python",
   "pygments_lexer": "ipython3",
   "version": "3.11.4"
  },
  "orig_nbformat": 4
 },
 "nbformat": 4,
 "nbformat_minor": 2
}
