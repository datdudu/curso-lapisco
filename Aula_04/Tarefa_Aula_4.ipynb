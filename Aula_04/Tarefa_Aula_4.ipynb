{
 "cells": [
  {
   "cell_type": "markdown",
   "metadata": {},
   "source": [
    "# Questão 1\n",
    "\n",
    "\n",
    "#### Lista: Crie uma estrutura de repetição para fazer a leitura de 5 números\n",
    "#### inteiros e os armazene dentro de uma lista. Após a leitura, crie outra estrutura\n",
    "#### de repetição para somar todos os valores digitados"
   ]
  },
  {
   "cell_type": "code",
   "execution_count": 7,
   "metadata": {},
   "outputs": [
    {
     "name": "stdout",
     "output_type": "stream",
     "text": [
      "Sua lista de números: ['2', '3', '4', '5', '6']\n",
      "A soma da lista de número 20\n"
     ]
    }
   ],
   "source": [
    "numbers_list = []\n",
    "sum = 0 \n",
    "\n",
    "for number in range(5) :\n",
    "    numbers_list.append(input(\"Digite um número: \"))\n",
    "\n",
    "\n",
    "print(f\"Sua lista de números: {numbers_list}\")\n",
    "\n",
    "for number in range(5) :\n",
    "    sum += int(numbers_list[number])\n",
    "    \n",
    "print(f'A soma dos números da lista é: {sum}')"
   ]
  },
  {
   "cell_type": "markdown",
   "metadata": {},
   "source": [
    "# Questão 2\n",
    "\n",
    "#### *Dicionário*: Crie um dicionário para armazenar o nome e a nota de 3 alunos,\n",
    "#### fazendo a leitura dos valores por meio de uma estrutura de repetição. Depois,\n",
    "#### crie uma nova estrutura de repetição para somar todas as notas e retornar a\n",
    "#### média"
   ]
  },
  {
   "cell_type": "code",
   "execution_count": 17,
   "metadata": {},
   "outputs": [
    {
     "name": "stdout",
     "output_type": "stream",
     "text": [
      "Lista de alunos {'Carlos': 10.0, 'Julio': 10.0, 'Calleb': 9.5, 'Gabriela': 9.2, 'Claudio': 7.2}\n",
      "5\n",
      "A média das notas dos alunos é 9.180000000000001\n"
     ]
    }
   ],
   "source": [
    "alumns_grades = {}\n",
    "sum_grade = 0 \n",
    "alumns_quantity = int(input(\"Digite a quantitade de alunos que quer adicionar: \"))\n",
    "\n",
    "for number in range(alumns_quantity) :\n",
    "    alumn = input(f\"Digite o aluno {number + 1}: \")\n",
    "    grade = float(input(f\"Digite a nota do aluno {number + 1}: \"))\n",
    "    \n",
    "    while(grade > 10 or grade < 0) :\n",
    "        print(\"A nota não pode ser maior que 10, nem menor que 0\")\n",
    "        grade = float(input(\"Digite a nota desse aluno novamente: \"))\n",
    "        \n",
    "    alumns_grades.update({alumn:grade})\n",
    "    \n",
    "print(f\"Lista de alunos {alumns_grades}\")\n",
    "\n",
    "dict_keys = alumns_grades.keys()\n",
    "\n",
    "for keys in alumns_grades.keys() :\n",
    "    sum_grade += alumns_grades[keys]\n",
    "\n",
    "average_grade = sum_grade/len(dict_keys)\n",
    "\n",
    "\n",
    "\n",
    "print(f\"A média das notas dos alunos é {average_grade}\")"
   ]
  },
  {
   "cell_type": "markdown",
   "metadata": {},
   "source": [
    "# Questão 3\n",
    "\n",
    "#### Conjuntos (Sets) : Crie dois conjutos, contendo neles local e dados do local,\n",
    "#### nos dados do local será necessário colocar pontos que tenham ou não\n",
    "#### semelhança com o seu anterior. Depois aplique operações de união,\n",
    "#### interseção, diferença e diferença simétrica."
   ]
  },
  {
   "cell_type": "code",
   "execution_count": 25,
   "metadata": {},
   "outputs": [
    {
     "name": "stdout",
     "output_type": "stream",
     "text": [
      "Realizando operações de conjuntos nos conjuntos feitos\n",
      "União das características de Overwatch e Uncharted 4 :\n",
      "{'FPS', 'Naughty Dog', 'Aventura', '2016', 'Blizzard'}\n",
      "---------------------------------------------------------\n",
      "Interseção das características de Overwatch e Uncharted 4 :\n",
      "{'2016'}\n",
      "---------------------------------------------------------\n",
      "Diferença das características de Overwatch e Uncharted 4 :\n",
      "{'FPS', 'Blizzard'}\n",
      "---------------------------------------------------------\n",
      "Diferença simétrica das características de Overwatch e Uncharted 4 :\n",
      "{'Naughty Dog', 'Aventura', 'FPS', 'Blizzard'}\n",
      "---------------------------------------------------------\n"
     ]
    }
   ],
   "source": [
    "game1_carachteristics = set()\n",
    "game2_carachteristics = set()\n",
    "\n",
    "characteristics = [\"Gênero\",\"Desenvolvedora\", \"Ano de lançamento\"]\n",
    "\n",
    "game1_name = input(\"Digite o nome de um jogo: \")\n",
    "\n",
    "while(1) :\n",
    "    number_charac = int(input(\"Quantas características você quer adicionar sobre ele? (no máximo 3)\"))\n",
    "    if (number_charac > 3 or number_charac < 0) :\n",
    "        print(\"Número de características não pode ser negativo nem maior do que 3\")\n",
    "    else : \n",
    "        break\n",
    "\n",
    "\n",
    "for characteristic in range(number_charac) :\n",
    "    game1_carachteristics.add(input(f\"Digite a característica {characteristics[characteristic]} do jogo {game1_name}:\"))\n",
    "\n",
    "\n",
    "game2_name = input(\"Digite o nome de outro jogo: \")\n",
    "\n",
    "while(1) :\n",
    "    number_charac = int(input(\"Quantas características você quer adicionar sobre ele? (no máximo 3)\"))\n",
    "    if (number_charac > 3 or number_charac < 0) :\n",
    "        print(\"Número de características não pode ser negativo nem maior do que 3\")\n",
    "    else : \n",
    "        break\n",
    "\n",
    "\n",
    "for characteristic in range(number_charac) :\n",
    "    game2_carachteristics.add(input(f\"Digite a característica {characteristics[characteristic]} do jogo {game2_name}:\"))\n",
    "\n",
    "print(\"Realizando operações de conjuntos nos conjuntos feitos\")\n",
    "\n",
    "print(f\"União das características de {game1_name} e {game2_name} :\")\n",
    "print(game1_carachteristics.union(game2_carachteristics))\n",
    "print(\"---------------------------------------------------------\")\n",
    "\n",
    "print(f\"Interseção das características de {game1_name} e {game2_name} :\")\n",
    "print(game1_carachteristics.intersection(game2_carachteristics))\n",
    "print(\"---------------------------------------------------------\")\n",
    "\n",
    "print(f\"Diferença das características de {game1_name} e {game2_name} :\")\n",
    "print(game1_carachteristics.difference(game2_carachteristics))\n",
    "print(\"---------------------------------------------------------\")\n",
    "\n",
    "print(f\"Diferença simétrica das características de {game1_name} e {game2_name} :\")\n",
    "print(game1_carachteristics.symmetric_difference(game2_carachteristics))\n",
    "print(\"---------------------------------------------------------\")\n"
   ]
  },
  {
   "cell_type": "markdown",
   "metadata": {},
   "source": [
    "# Questão 4\n",
    "#### Matriz: Dada a matriz abaixo, construa uma estrutura de repetição para\n",
    "#### percorrer e somar todos os elementos da matriz\n",
    "#### matriz = np.array([[3, 4, 1], [3, 1, 5]])"
   ]
  },
  {
   "cell_type": "code",
   "execution_count": 30,
   "metadata": {},
   "outputs": [
    {
     "name": "stdout",
     "output_type": "stream",
     "text": [
      "Soma dos números da matriz é 17\n"
     ]
    }
   ],
   "source": [
    "matriz = [[3, 4, 1], [3, 1, 5]]\n",
    "sum = 0\n",
    "for line in range(2) :\n",
    "    for column in range (3) :\n",
    "        sum += matriz[line][column]\n",
    "        \n",
    "print(f\"Soma dos números da matriz é {sum}\")\n",
    "    "
   ]
  }
 ],
 "metadata": {
  "kernelspec": {
   "display_name": "Python 3",
   "language": "python",
   "name": "python3"
  },
  "language_info": {
   "codemirror_mode": {
    "name": "ipython",
    "version": 3
   },
   "file_extension": ".py",
   "mimetype": "text/x-python",
   "name": "python",
   "nbconvert_exporter": "python",
   "pygments_lexer": "ipython3",
   "version": "3.11.4"
  },
  "orig_nbformat": 4
 },
 "nbformat": 4,
 "nbformat_minor": 2
}
